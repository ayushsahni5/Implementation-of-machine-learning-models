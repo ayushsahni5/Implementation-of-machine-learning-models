{
 "cells": [
  {
   "cell_type": "markdown",
   "id": "86375899",
   "metadata": {},
   "source": [
    "## Question1"
   ]
  },
  {
   "cell_type": "markdown",
   "id": "a212206d",
   "metadata": {},
   "source": [
    "### 1(a) The Perceptron algorithm"
   ]
  },
  {
   "cell_type": "code",
   "execution_count": 18,
   "id": "d84ec873",
   "metadata": {},
   "outputs": [],
   "source": [
    "import numpy as np\n",
    "\n",
    "def perceptron_algo(X,Y):\n",
    "    L=1                                  # L is learning rate(assigned as 1 for classical perceptron algorithm)\n",
    "    rows=len(X)\n",
    "    cols=len(X[0])\n",
    "    W=np.ones(cols)                      # initial value of hyperplane normal vector W\n",
    "    no_update_limit=100                  # if W doesn't update since more than this then W has converged\n",
    "    iterations_since_last_update=0\n",
    "    \n",
    "    '''run a loop for 100 times the length of training data. I could have run it until algorithm converges but incase \n",
    "    convergence is not possible then it will go into infite loop'''\n",
    "    iterations=100*rows           #number of loop iterations\n",
    "    for i in range(iterations):\n",
    "        #pick a random data\n",
    "        n=np.random.randint(0,rows)\n",
    "        Xi=X[n]\n",
    "        yi=Y[n]\n",
    "        \n",
    "        #if mistake happens then updata W \n",
    "        '''Note that a mistake is said to happen when positive point lies on negative side or a negative point lies \n",
    "        on positive side of the hyperplane. The direction of vector W is considered the positive side.'''\n",
    "        if np.dot(W,Xi)*yi<0:\n",
    "            W = W+yi*Xi\n",
    "            iterations_since_last_update=0\n",
    "        else:\n",
    "            iterations_since_last_update=iterations_since_last_update+1\n",
    "            \n",
    "        #if update hasn't happend since a lot of time then algorithm has converged.So break out of loop.\n",
    "        if(iterations_since_last_update>no_update_limit):\n",
    "            break;\n",
    "            \n",
    "    return W\n",
    "    "
   ]
  },
  {
   "cell_type": "markdown",
   "id": "c7a3fc0b",
   "metadata": {},
   "source": [
    "### 1(b)"
   ]
  },
  {
   "cell_type": "code",
   "execution_count": 19,
   "id": "c2145fc5",
   "metadata": {},
   "outputs": [],
   "source": [
    "import pandas as pd\n",
    "\n",
    "banknotes_df=pd.read_csv('data_banknote_authentication.txt',sep=\",\",header=None) \n",
    "banknotes_df\n",
    "\n",
    "'''Pre-processing banknote dataset'''\n",
    "banknotes_df.isnull().sum()   # running this shows there are no null or missing values\n",
    "\n",
    "#running these shows all values in each column are integer type \n",
    "banknotes_df[0].dtype\n",
    "banknotes_df[1].dtype\n",
    "banknotes_df[2].dtype\n",
    "banknotes_df[3].dtype\n",
    "banknotes_df[4].dtype\n",
    "\n",
    "\n",
    "\n",
    "#Creating training and test data in 80:20 ratio\n",
    "dataset_array=banknotes_df.to_numpy() #dataframe to numppy array\n",
    "\n",
    "np.random.shuffle(dataset_array)      # randomly shuffling data before separating test and training set\n",
    "train_set=dataset_array[0:int(round(0.8*len(dataset_array)))]   #rows from 0 to 0.8*total rows in dataset\n",
    "test_set=dataset_array[int(round(0.8*len(dataset_array))) :]    #rows from 0.8*total rows in dataset to last row\n",
    "#converting 0 labels to -1\n",
    "test_set[...,4:][test_set[...,4:]==0]=-1\n",
    "train_set[...,4:][train_set[...,4:]==0]=-1\n",
    "\n"
   ]
  },
  {
   "cell_type": "markdown",
   "id": "ae7e0249",
   "metadata": {},
   "source": [
    "### function to make prediction using perceptron algorithm"
   ]
  },
  {
   "cell_type": "code",
   "execution_count": 20,
   "id": "3ddede2b",
   "metadata": {},
   "outputs": [],
   "source": [
    "X=train_set[...,0:4]              # X stores features\n",
    "Y=train_set[...,4:]               # Y stores target value( or labels)\n",
    "Y=Y.astype(int)                   # converting labels from float to integer\n",
    "W = perceptron_algo(X,Y)           # W is the normal vector of hyperplane. This hyperplane separates positive and negative points.\n",
    "\n",
    "def prediction_func(X,Y,validation_set):\n",
    "    W = perceptron_algo(X,Y)           # W is the normal vector of hyperplane. This hyperplane separates positive and negative points.\n",
    "    \n",
    "    errors=0\n",
    "    for i in range(len(validation_set)):\n",
    "        \n",
    "        x_validate=validation_set[...,0:4][i]\n",
    "        y_validate=validation_set[...,4:][i]\n",
    "        if (np.dot(W,x_validate)*y_validate) < 0:\n",
    "            errors=errors+1\n",
    "    error_ratio=errors/len(validation_set)\n",
    "    return error_ratio\n",
    "\n"
   ]
  },
  {
   "cell_type": "markdown",
   "id": "6777e198",
   "metadata": {},
   "source": [
    "### 1(c)"
   ]
  },
  {
   "cell_type": "code",
   "execution_count": 21,
   "id": "3e62d180",
   "metadata": {},
   "outputs": [
    {
     "name": "stdout",
     "output_type": "stream",
     "text": [
      "0.10091743119266056\n"
     ]
    }
   ],
   "source": [
    "#Performing 10 fold cross validation\n",
    "\n",
    "np.random.shuffle(train_set)\n",
    "n=len(train_set)\n",
    "jump_length=n/10          # used in each fold of cross validation\n",
    "for i in range(10):\n",
    "    #creating validation set for cross validation\n",
    "    start_index=int(round(i*jump_length))\n",
    "    end_index=int(round(start_index+jump_length))\n",
    "    end_index=n-1 if (end_index>=n) else end_index      # if end_index has moved beyond last index then set end index to last index \n",
    "    validation_set=train_set[start_index:end_index,...]\n",
    "    \n",
    "    #create training set for cross validation\n",
    "    training_set=train_set[0]\n",
    "    for j in range(n):\n",
    "        if j>=start_index and j<=end_index:\n",
    "            continue\n",
    "            \n",
    "        training_set=np.vstack([training_set,train_set[j]])\n",
    "        \n",
    "    # Start training the model and test it on current validation set\n",
    "    X=training_set[...,0:4]              # X stores features\n",
    "    Y=training_set[...,4:]               # Y stores target value( or labels)\n",
    "    \n",
    "    #find error ratio\n",
    "    mylist=[]\n",
    "    error_ratio = prediction_func(X,Y,validation_set)             \n",
    "    mylist.append(error_ratio)\n",
    "    \n",
    "# mean value of all errors in each validation set\n",
    "mean_error_ratio=0\n",
    "for k in range(len(mylist)):\n",
    "    mean_error_ratio=mean_error_ratio+mylist[k]\n",
    "mean_error_ratio=mean_error_ratio/len(mylist)\n",
    "print(mean_error_ratio)"
   ]
  },
  {
   "cell_type": "markdown",
   "id": "647d009d",
   "metadata": {},
   "source": [
    "### 1(d)"
   ]
  },
  {
   "cell_type": "code",
   "execution_count": 280,
   "id": "0cd774fd",
   "metadata": {},
   "outputs": [
    {
     "ename": "TypeError",
     "evalue": "object of type 'numpy.float64' has no len()",
     "output_type": "error",
     "traceback": [
      "\u001b[0;31m---------------------------------------------------------------------------\u001b[0m",
      "\u001b[0;31mTypeError\u001b[0m                                 Traceback (most recent call last)",
      "\u001b[0;32m<ipython-input-280-48b6373bbce3>\u001b[0m in \u001b[0;36m<module>\u001b[0;34m\u001b[0m\n\u001b[1;32m      2\u001b[0m \u001b[0mYtest\u001b[0m\u001b[0;34m=\u001b[0m\u001b[0mtest_set\u001b[0m\u001b[0;34m[\u001b[0m\u001b[0;34m...\u001b[0m\u001b[0;34m,\u001b[0m\u001b[0;36m4\u001b[0m\u001b[0;34m:\u001b[0m\u001b[0;34m]\u001b[0m               \u001b[0;31m# Y stores target value( or labels)\u001b[0m\u001b[0;34m\u001b[0m\u001b[0;34m\u001b[0m\u001b[0m\n\u001b[1;32m      3\u001b[0m \u001b[0;31m#Ytest=Ytest.astype(int)                   # converting labels from float to integer\u001b[0m\u001b[0;34m\u001b[0m\u001b[0;34m\u001b[0m\u001b[0;34m\u001b[0m\u001b[0m\n\u001b[0;32m----> 4\u001b[0;31m \u001b[0mW\u001b[0m \u001b[0;34m=\u001b[0m \u001b[0mperceptron_algo\u001b[0m\u001b[0;34m(\u001b[0m\u001b[0mX\u001b[0m\u001b[0;34m,\u001b[0m\u001b[0mY\u001b[0m\u001b[0;34m)\u001b[0m           \u001b[0;31m# W is the normal vector of hyperplane. This hyperplane separates positive and negative points.\u001b[0m\u001b[0;34m\u001b[0m\u001b[0;34m\u001b[0m\u001b[0m\n\u001b[0m",
      "\u001b[0;32m<ipython-input-18-944d480dbe3c>\u001b[0m in \u001b[0;36mperceptron_algo\u001b[0;34m(X, Y)\u001b[0m\n\u001b[1;32m      4\u001b[0m     \u001b[0mL\u001b[0m\u001b[0;34m=\u001b[0m\u001b[0;36m1\u001b[0m                                  \u001b[0;31m# L is learning rate(assigned as 1 for classical perceptron algorithm)\u001b[0m\u001b[0;34m\u001b[0m\u001b[0;34m\u001b[0m\u001b[0m\n\u001b[1;32m      5\u001b[0m     \u001b[0mrows\u001b[0m\u001b[0;34m=\u001b[0m\u001b[0mlen\u001b[0m\u001b[0;34m(\u001b[0m\u001b[0mX\u001b[0m\u001b[0;34m)\u001b[0m\u001b[0;34m\u001b[0m\u001b[0;34m\u001b[0m\u001b[0m\n\u001b[0;32m----> 6\u001b[0;31m     \u001b[0mcols\u001b[0m\u001b[0;34m=\u001b[0m\u001b[0mlen\u001b[0m\u001b[0;34m(\u001b[0m\u001b[0mX\u001b[0m\u001b[0;34m[\u001b[0m\u001b[0;36m0\u001b[0m\u001b[0;34m]\u001b[0m\u001b[0;34m)\u001b[0m\u001b[0;34m\u001b[0m\u001b[0;34m\u001b[0m\u001b[0m\n\u001b[0m\u001b[1;32m      7\u001b[0m     \u001b[0mW\u001b[0m\u001b[0;34m=\u001b[0m\u001b[0mnp\u001b[0m\u001b[0;34m.\u001b[0m\u001b[0mones\u001b[0m\u001b[0;34m(\u001b[0m\u001b[0mcols\u001b[0m\u001b[0;34m)\u001b[0m                      \u001b[0;31m# initial value of hyperplane normal vector W\u001b[0m\u001b[0;34m\u001b[0m\u001b[0;34m\u001b[0m\u001b[0m\n\u001b[1;32m      8\u001b[0m     \u001b[0mno_update_limit\u001b[0m\u001b[0;34m=\u001b[0m\u001b[0;36m100\u001b[0m                  \u001b[0;31m# if W doesn't update since more than this then W has converged\u001b[0m\u001b[0;34m\u001b[0m\u001b[0;34m\u001b[0m\u001b[0m\n",
      "\u001b[0;31mTypeError\u001b[0m: object of type 'numpy.float64' has no len()"
     ]
    }
   ],
   "source": [
    "precision=truepos/(truepos+falsepos)\n",
    "recall=truepos/(truepos+falseneg)\n",
    "F1score=(2*precision*recall)/(precision+recall)\n",
    "print(F1score)"
   ]
  },
  {
   "cell_type": "markdown",
   "id": "da58c475",
   "metadata": {},
   "source": [
    "## Question2"
   ]
  },
  {
   "cell_type": "markdown",
   "id": "bdda27fd",
   "metadata": {},
   "source": [
    "### 2(a)"
   ]
  },
  {
   "cell_type": "markdown",
   "id": "5dcde705",
   "metadata": {},
   "source": [
    "__Bayesian Posterior Distribution with known variance and unknown mean__\n",
    "\n",
    "Let mean and variance of sampled data be $\\mu$ and $\\sigma$ respectively.\n",
    "Let mean and variance of prior be $\\mu_p$ and $\\sigma_p$ repectively.\n",
    "Let there be n iid samples drawn from normal distribution.\n",
    "\n",
    "\n",
    "Bayesian posterior distribution, \n",
    "$$f(\\mu | x_1,x_2,...,x_n) \\propto f(x_1,x_2,...,x_n | \\mu) *f(\\mu) \\quad \\quad -equation(1)$$\n",
    "\n",
    "The first term is called likelihood and second term is prior.\n",
    "\n",
    "$$ $$\n",
    "$$Likelihood=f(x_1,x_2,...,x_n | \\mu)$$\n",
    "\n",
    "$$ =\\prod_{i=1}^{n} exp\\{-\\frac{(x_i - \\mu)^2}{2\\sigma ^2}\\} \\quad ...\\text{because samples are iid}$$\n",
    "$$=exp\\{-\\frac{\\sum_{i=1}^n (x_i - \\mu)^2}{2\\sigma ^2}\\}$$\n",
    "\n",
    "$$ $$\n",
    "$$ $$\n",
    "$$Prior=f(\\mu)$$\n",
    "$$=exp\\{-\\frac{(\\mu - \\mu_p)^2}{2\\sigma_p ^2}\\}$$\n",
    "\n",
    "From quation(1),\n",
    "$$f(\\mu | x_1,x_2,...,x_n) \\propto exp\\{-\\frac{\\sum_{i=1}^n (x_i - \\mu)^2}{2\\sigma ^2}\\}*exp\\{-\\frac{(\\mu - \\mu_p)^2}{2\\sigma_p ^2}\\}$$\n",
    "$$\\propto exp\\{-\\frac{\\sum_{i=1}^n (x_i - \\mu)^2}{2\\sigma ^2}  -\\frac{(\\mu - \\mu_p)^2}{2\\sigma_p ^2}\\}$$\n",
    "$$\\propto exp\\{-\\frac{\\sum_{i=1}^n x_i^2 + \\sum_{i=1}^n \\mu^2 -2\\mu \\sum_{i=1}^n x_i}{2\\sigma ^2}  -\\frac{(\\mu^2 + \\mu_p ^2 -2\\mu \\mu_p)}{2\\sigma_p ^2}\\}$$\n",
    "$$\\propto exp\\{\\mu^2 [\\frac{-n}{2\\sigma ^2}  -\\frac{1}{2\\sigma_p ^2}] -2\\mu[\\frac{-\\sum_{i=1}^n x_i}{2\\sigma^2}-\\frac{\\mu_p}{2\\sigma_p ^2}] + -\\frac{\\sum_{i=1}^n x_i ^2}{2\\sigma^2} - \\frac{\\mu_p ^2}{2\\sigma_p ^2}\\} \\quad ...equation(2)$$\n",
    "\n",
    "\n",
    "If we assume mean and variance of posterior distribution to be $\\mu_{post}$ and $\\sigma_{post}$ respectively, then distribution of posterior will be of the form:\n",
    "$$constant*exp\\{-\\frac{(\\mu - \\mu_{post})^2}{2\\sigma_{post} ^2}\\}$$\n",
    "$$\\propto exp\\{-\\frac{\\mu^2 + \\mu_{post} ^2 -2\\mu\\mu_{post}}{2\\sigma_{post} ^2}\\} \\quad ...equation(3)$$\n",
    "\n",
    "Comparing the coefficient of $\\mu^2$ in equation(2) and equation(3):\n",
    "$$\\mu^2[-\\frac{1}{2\\sigma_{post} ^2}]=\\mu^2[-\\frac{n}{2\\sigma^2}-\\frac{1}{2\\sigma_{p} ^2}]$$\n",
    "$$\\frac{1}{\\sigma_{post} ^2}=\\frac{n}{\\sigma^2}+\\frac{1}{\\sigma_p ^2}$$\n",
    "$$\\sigma_{post} ^2 =\\frac{\\sigma ^2 \\sigma_p ^2}{n \\sigma_p ^2 + \\sigma^2} \\quad ...\\text{Variance of bayesian posterior distribution}$$\n",
    "\n",
    "Comparing the coefficients of $\\mu$ in equation(2) and equation(3):\n",
    "$$\\frac{-2\\mu \\mu_{post}}{-2\\sigma_{post} ^2} = -2\\mu[-\\frac{\\sum_{i=1}^{n} x_i}{2\\sigma^2} - \\frac{\\mu_p}{2\\sigma_p ^2}]$$\n",
    "$$\\mu_{post}=\\sigma_{post} ^2[\\frac{\\sum_{i=1}^n x_i}{\\sigma^2} + \\frac{\\mu_p}{\\sigma_p ^2}]$$\n",
    "$$\\mu_{post}=\\frac{\\sigma_p ^2 \\sum_{i=1}^n x_i + \\mu_p \\sigma^2}{n\\sigma_p ^2 + \\sigma^2} \\quad ....\\text{Mean of bayesian posterior distribution}$$\n",
    "\n",
    "\n",
    "Hence, the posterior distribution is:\n",
    "$$\\frac{1}{(2\\pi \\sigma_{post} ^2)^{1/2}}exp\\{-\\frac{(\\mu - \\mu_{post})^2}{2\\sigma_{post} ^2}\\}$$\n",
    "\n",
    "where $\\mu_{post}=\\frac{\\sigma_p ^2 \\sum_{i=1}^n x_i + \\mu_p \\sigma^2}{n\\sigma_p ^2 + \\sigma^2}$ and $ \\sigma_{post} ^2 =\\frac{\\sigma ^2 \\sigma_p ^2}{n \\sigma_p ^2 + \\sigma^2}$\n",
    "This is a general formula for n iid samples.\n",
    "\n",
    "According to question,\n",
    "\n",
    "$\\mu_p = 25 $\n",
    "\n",
    "$\\mu=10$\n",
    "\n",
    "$\\sigma_p=5$\n",
    "\n",
    "$\\sigma=5$\n",
    "\n",
    "$n=50$\n",
    "\n",
    "So, $\\mu_{post}=\\frac{25 \\sum_{i=1}^n x_i + 625}{1275}$ and $ \\sigma_{post} ^2 =\\frac{625}{1275}=\\frac{25}{51}$"
   ]
  },
  {
   "cell_type": "code",
   "execution_count": 275,
   "id": "7b88cff0",
   "metadata": {},
   "outputs": [],
   "source": [
    "#function to compute posterior probability\n",
    "def calc_posterior_prob(X):           # Given X is an array of data calculate the posterior probability\n",
    "    mu_post=(25*np.sum(X)+625)/1275   # posterior analytic mean\n",
    "    sigma_post=sqrt(25/51)            # posterior analytic sigma\n",
    "    post_prob=(2.71828**(-((X-mu_post)**2)/(2*(sigma_post**2))))/math.sqrt((sigma_post**2)*44/7)\n",
    "    return post_prob\n",
    "    "
   ]
  },
  {
   "cell_type": "code",
   "execution_count": 276,
   "id": "16355fd6",
   "metadata": {},
   "outputs": [
    {
     "data": {
      "text/plain": [
       "[<matplotlib.lines.Line2D at 0x7fe9d0431b50>]"
      ]
     },
     "execution_count": 276,
     "metadata": {},
     "output_type": "execute_result"
    },
    {
     "data": {
      "image/png": "[encoded data removed]",
      "text/plain": [
       "<Figure size 432x288 with 1 Axes>"
      ]
     },
     "metadata": {
      "needs_background": "light"
     },
     "output_type": "display_data"
    }
   ],
   "source": [
    "import math\n",
    "import matplotlib.pyplot as plt\n",
    "Y=np.random.normal(10,5,50)      # sampling 50 points for likelihood data\n",
    "Y=np.sort(Y)\n",
    "param=np.array([15])\n",
    "param=np.sort(param)\n",
    "likelihood_func=(2.71828**(-((Y-param)**2)/(2*(5**2))))/math.sqrt((5**2)*44/7)  #likelihood is a function of mu\n",
    "plt.plot(Y,likelihood_func,color='red')\n",
    "\n",
    "mu_post=(25*np.sum(Y)+625)/1275        # posterior mean\n",
    "sigma_post=math.sqrt(25/51)            # posterior sigma\n",
    "\n",
    "X=np.arange(50)                        # creating 50 points for x axis\n",
    "post_func=(2.71828**(-((X-mu_post)**2)/(2*(sigma_post**2))))/math.sqrt((sigma_post**2)*44/7)  # corresponding y axis points\n",
    "plt.plot(X,post_func,color='green')\n",
    "\n",
    "mu=np.arange(50)            \n",
    "prior_func=(2.71828**(-((mu-25)**2)/(2*(5**2))))/math.sqrt((5**2)*44/7)\n",
    "plt.plot(mu,prior_func)"
   ]
  },
  {
   "cell_type": "code",
   "execution_count": 277,
   "id": "93ea6d34",
   "metadata": {},
   "outputs": [
    {
     "data": {
      "text/plain": [
       "[<matplotlib.lines.Line2D at 0x7fe9d041adc0>]"
      ]
     },
     "execution_count": 277,
     "metadata": {},
     "output_type": "execute_result"
    },
    {
     "data": {
      "image/png": "[encoded data removed]",
      "text/plain": [
       "<Figure size 432x288 with 1 Axes>"
      ]
     },
     "metadata": {
      "needs_background": "light"
     },
     "output_type": "display_data"
    }
   ],
   "source": [
    "X=np.random.normal(10,5,50)       \n",
    "mu_post=(25*np.sum(X)+625)/1275   # posterior mean\n",
    "sigma_post=math.sqrt(25/51)            # posterior sigma\n",
    "\n",
    "\n",
    "X=np.sort(X)\n",
    "\n",
    "post_func=(2.718**(-((X-mu_post)**2)/(2*(sigma_post**2))))/((sigma_post**2)*44/7)\n",
    "\n",
    "plt.plot(X,post_func)"
   ]
  },
  {
   "cell_type": "markdown",
   "id": "ec982700",
   "metadata": {},
   "source": [
    "### 2(b) Metropolis-Hasting Algorithm"
   ]
  },
  {
   "cell_type": "code",
   "execution_count": 278,
   "id": "c052a0ca",
   "metadata": {},
   "outputs": [],
   "source": [
    "#function to calculate likelihood value\n",
    "def likelihood(X,mean,SD):\n",
    "    result=(2.71828**(-(np.sum((X-mean)**2))/(2*(SD**2))))/math.sqrt((SD**2)*44/7)\n",
    "    return result\n",
    "\n",
    "#function to calculate value of prior for given mu\n",
    "def prior(mu,mu_mean,SD):\n",
    "    result=(2.71828**(-((mu-mu_mean)**2)/(2*(SD**2))))/math.sqrt((SD**2)*44/7)\n",
    "    return result"
   ]
  },
  {
   "cell_type": "code",
   "execution_count": 239,
   "id": "fd152001",
   "metadata": {},
   "outputs": [],
   "source": [
    "#function to draw the histogram plot\n",
    "def metropolis(SD,iterations,mu0):        #SD=standard dev of proposed distribution , iterations=no of iterations to run metropolis algo , mu0= intial value of mu\n",
    "    convergence_threshold=5000 #If there hasn't been any jump for more than threshhold then metropolis has converrged\n",
    "    \n",
    "    mylist=[]                  #this list will store the ACCEPTED points. Histogram of this list will be plotted. \n",
    "    mylist.append(mu0[0])      #add the initial point\n",
    "    SD=10                      # standard deviation of proposal distribution\n",
    "    X=np.random.normal(10,5,50)   # sampling 50 data points fromm a normal distribution with mean 10 and SD=5 to be used in likelihood function \n",
    "    \n",
    "    no_jump=0\n",
    "    k=0                   #iteration counter\n",
    "    while(k<iterations):        \n",
    "        muN=np.random.normal(mu0,SD,1)       #sample the next 'proposed' value of mu , where mu is prior variable\n",
    "        \n",
    "        #r is (posterior of proposed mu)/(posterior of old mu)\n",
    "        r=(likelihood(X,muN,5) * prior(muN,25,5))/(likelihood(X,mu0,5) * prior(mu0,25,5))\n",
    "        \n",
    "        #if r is greater than 1 then accept the proposed value of mu\n",
    "        if r>1:\n",
    "            mylist.append(muN[0])   #add proposed mu to list because we have accepted it\n",
    "            mu0=muN                 #set old mu to new mu\n",
    "            no_jump=0               #we have accepted proposed mu, so we JUMP to this mu. Hence restting no_jump to 0\n",
    "          \n",
    "        #if r<1, don't directly neglect proposed mu. Pick a random number u sampled from uniform distribution and if r>u then accept the proposed mu, else reject it\n",
    "        else:\n",
    "            u=np.random.uniform(0,1,1)\n",
    "            if r>u:\n",
    "                mylist.append(muN[0])\n",
    "                mu0=muN\n",
    "                no_jump=0\n",
    "                \n",
    "            # finally now you reject proposed mu because it didn't pass any of the above conditions\n",
    "            else:\n",
    "                mylist.append(mu0[0])  #here I am putting old mu to the list to give it some more weightage because its posterior is 'better' than proposed mu\n",
    "                no_jump=no_jump+1      #we didn't jump rather stayed at old mu.\n",
    "         \n",
    "        \n",
    "        k=k+1   \n",
    "        \n",
    "    plt.xlabel('X-Axis')\n",
    "    plt.ylabel('Y-Axis')\n",
    "    plt.title('Metropolis histogram vs Bayesian Analytic density\\n\\n',fontweight =\"bold\")\n",
    "    \n",
    "    # Removing starting points from list so that histogram depends lesser on initial choice of point(here mu0)\n",
    "    remove_points=int(round(0.1*len(mylist)))\n",
    "    for i in range (remove_points):\n",
    "        mylist.remove(mylist[0])\n",
    "        \n",
    "    #plot metropolis histogram\n",
    "    plt.hist(mylist,500,density=1)         #mylist contains all ACCEPTED mu values\n",
    "    \n",
    "    #plot analytic posterior\n",
    "    Z=np.arange(50)                        # x-cordinates for posterior plot\n",
    "    mu_post=(25*np.sum(X)+625)/1275        # posterior mean calculated analytically\n",
    "    sigma_post=math.sqrt(25/51)            # posterior sigma calculated analytically\n",
    "    post_func=(2.71828**(-((Z-mu_post)**2)/(2*(sigma_post**2))))/math.sqrt((sigma_post**2)*44/7)  # corresponding y axis points\n",
    "    plt.plot(Z,post_func,color='red')\n",
    "    \n",
    "    plt.legend([\"Analytic posterior\",\"histogram/metropolis\"])\n",
    "    plt.show()\n",
    "    "
   ]
  },
  {
   "cell_type": "code",
   "execution_count": 240,
   "id": "89983130",
   "metadata": {},
   "outputs": [
    {
     "data": {
      "image/png": "[encoded data removed]",
      "text/plain": [
       "<Figure size 432x288 with 1 Axes>"
      ]
     },
     "metadata": {
      "needs_background": "light"
     },
     "output_type": "display_data"
    }
   ],
   "source": [
    "#calling metropolis algorithm\n",
    "metropolis(10,100000,np.array([1]))"
   ]
  },
  {
   "cell_type": "markdown",
   "id": "87b9e128",
   "metadata": {},
   "source": [
    "### 2(c)"
   ]
  },
  {
   "cell_type": "markdown",
   "id": "88ddd09b",
   "metadata": {},
   "source": [
    "__Dependence of convergence on SD:__\n",
    "If SD is very small then proposed $\\mu$ values will be closer to each other with high probability. If we take an initial value of $\\mu$ which is far away from actual posterior then histogram will take more iterations to converge to actual posterior. In lesser iterations it won't converge.\n",
    "\n",
    "If SD is very large then proposed $\\mu$ values will be far away from each other with decent probability. If number of iterations is less then it might not converge because it might go to propose distant values of $\\mu$ which are away from actual mean of posterior and hence waste our iterations. So more number of iterations will be required to propose correct values of $\\mu$.\n",
    "\n",
    "Also, for large SD since far apart values of $\\mu$ are proposed, many of them will get ACCEPTED also over time, hence our histogram will be wider as compared ot histogram of smaller SD.\n",
    "\n",
    "Dependence on intial value of $\\mu$ : If initial value of $\\mu$ goes beyond a certain point then more iterations will be required for $\\mu$ to reach towards actual posterior."
   ]
  },
  {
   "cell_type": "markdown",
   "id": "bcf4c1d7",
   "metadata": {},
   "source": [
    "Consequences of using sub-optimal proposal width and terminating sampling too soon:-"
   ]
  },
  {
   "cell_type": "markdown",
   "id": "7c59d0e4",
   "metadata": {},
   "source": [
    "__SMALL SD__"
   ]
  },
  {
   "cell_type": "code",
   "execution_count": 257,
   "id": "cfe647ca",
   "metadata": {},
   "outputs": [
    {
     "name": "stderr",
     "output_type": "stream",
     "text": [
      "<ipython-input-239-15d784a5f45c>:16: RuntimeWarning: invalid value encountered in true_divide\n",
      "  r=(likelihood(X,muN,5) * prior(muN,25,5))/(likelihood(X,mu0,5) * prior(mu0,25,5))\n"
     ]
    },
    {
     "data": {
      "image/png": "[encoded data removed]",
      "text/plain": [
       "<Figure size 432x288 with 1 Axes>"
      ]
     },
     "metadata": {
      "needs_background": "light"
     },
     "output_type": "display_data"
    },
    {
     "data": {
      "text/plain": [
       "\"notice that there is no histogram plot because convergence hasn't happened for such less iterations.  \""
      ]
     },
     "execution_count": 257,
     "metadata": {},
     "output_type": "execute_result"
    }
   ],
   "source": [
    "#Here I am taking SD=1(very small) and interations=200(also small and initial value mu0=100(far away from actual posterior mean))\n",
    "metropolis(1,5000,np.array([100]))\n",
    "'''notice that there is no histogram plot because convergence hasn't happened for such less iterations.  '''"
   ]
  },
  {
   "cell_type": "code",
   "execution_count": 256,
   "id": "9e9d3392",
   "metadata": {},
   "outputs": [
    {
     "data": {
      "image/png": "[encoded data removed]",
      "text/plain": [
       "<Figure size 432x288 with 1 Axes>"
      ]
     },
     "metadata": {
      "needs_background": "light"
     },
     "output_type": "display_data"
    }
   ],
   "source": [
    "'''Notice here we have same number of iterations and SD but initial value of mu0 is close to actual posterior mean\n",
    "so there is little histogram plot which shows it is trying to converge'''\n",
    "metropolis(1,5000,np.array([10]))"
   ]
  },
  {
   "cell_type": "markdown",
   "id": "258a5035",
   "metadata": {},
   "source": [
    "__LARGE SD__"
   ]
  },
  {
   "cell_type": "code",
   "execution_count": 265,
   "id": "9a25d897",
   "metadata": {},
   "outputs": [
    {
     "data": {
      "image/png": "[encoded data removed]",
      "text/plain": [
       "<Figure size 432x288 with 1 Axes>"
      ]
     },
     "metadata": {
      "needs_background": "light"
     },
     "output_type": "display_data"
    }
   ],
   "source": [
    "'''Notice here that SD is 100(large) and eventhough mu0 is 5(very close to actual posterior mean) histogram is not able to converge properly in less iterations'''\n",
    "metropolis(400,3000,np.array([5]))"
   ]
  },
  {
   "cell_type": "code",
   "execution_count": 266,
   "id": "aa031232",
   "metadata": {},
   "outputs": [
    {
     "data": {
      "image/png": "[encoded data removed]",
      "text/plain": [
       "<Figure size 432x288 with 1 Axes>"
      ]
     },
     "metadata": {
      "needs_background": "light"
     },
     "output_type": "display_data"
    }
   ],
   "source": [
    "'''On increasing the number of iterations'''\n",
    "metropolis(200,30000,np.array([5]))"
   ]
  },
  {
   "cell_type": "markdown",
   "id": "f4f23378",
   "metadata": {},
   "source": [
    "__The above 2 observations show that neither large SD is good nor small SD is good.__"
   ]
  },
  {
   "cell_type": "markdown",
   "id": "1c1938b8",
   "metadata": {},
   "source": [
    "# "
   ]
  },
  {
   "cell_type": "markdown",
   "id": "c9502924",
   "metadata": {},
   "source": []
  }
 ],
 "metadata": {
  "kernelspec": {
   "display_name": "Python 3 (ipykernel)",
   "language": "python",
   "name": "python3"
  },
  "language_info": {
   "codemirror_mode": {
    "name": "ipython",
    "version": 3
   },
   "file_extension": ".py",
   "mimetype": "text/x-python",
   "name": "python",
   "nbconvert_exporter": "python",
   "pygments_lexer": "ipython3",
   "version": "3.10.2"
  }
 },
 "nbformat": 4,
 "nbformat_minor": 5
}
