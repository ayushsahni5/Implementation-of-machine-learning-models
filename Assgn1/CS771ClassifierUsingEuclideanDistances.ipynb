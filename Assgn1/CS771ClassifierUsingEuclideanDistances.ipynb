{
 "cells": [
  {
   "cell_type": "code",
   "execution_count": 1,
   "id": "63d15365",
   "metadata": {},
   "outputs": [
    {
     "ename": "SyntaxError",
     "evalue": "Missing parentheses in call to 'print'. Did you mean print(\"hello\")? (<ipython-input-1-2a0eaa89f43f>, line 1)",
     "output_type": "error",
     "traceback": [
      "\u001b[0;36m  File \u001b[0;32m\"<ipython-input-1-2a0eaa89f43f>\"\u001b[0;36m, line \u001b[0;32m1\u001b[0m\n\u001b[0;31m    print \"hello\"\u001b[0m\n\u001b[0m          ^\u001b[0m\n\u001b[0;31mSyntaxError\u001b[0m\u001b[0;31m:\u001b[0m Missing parentheses in call to 'print'. Did you mean print(\"hello\")?\n"
     ]
    }
   ],
   "source": [
    "print \"hello\""
   ]
  },
  {
   "cell_type": "code",
   "execution_count": 2,
   "id": "6889684c",
   "metadata": {},
   "outputs": [
    {
     "name": "stdout",
     "output_type": "stream",
     "text": [
      "hello\n"
     ]
    }
   ],
   "source": [
    "print(\"hello\")"
   ]
  },
  {
   "cell_type": "code",
   "execution_count": 4,
   "id": "5b5241b1",
   "metadata": {},
   "outputs": [
    {
     "name": "stdout",
     "output_type": "stream",
     "text": [
      "[1 2 3]\n"
     ]
    }
   ],
   "source": [
    "import numpy as np\n",
    "arr=np.array([1,2,3])\n",
    "print(arr)"
   ]
  },
  {
   "cell_type": "code",
   "execution_count": 5,
   "id": "90d0b655",
   "metadata": {},
   "outputs": [
    {
     "ename": "ModuleNotFoundError",
     "evalue": "No module named 'cs771'",
     "output_type": "error",
     "traceback": [
      "\u001b[0;31m---------------------------------------------------------------------------\u001b[0m",
      "\u001b[0;31mModuleNotFoundError\u001b[0m                       Traceback (most recent call last)",
      "\u001b[0;32m<ipython-input-5-a0585d4c15f7>\u001b[0m in \u001b[0;36m<module>\u001b[0;34m\u001b[0m\n\u001b[0;32m----> 1\u001b[0;31m \u001b[0;32mimport\u001b[0m \u001b[0mcs771\u001b[0m \u001b[0;32mas\u001b[0m \u001b[0mcs\u001b[0m\u001b[0;34m\u001b[0m\u001b[0;34m\u001b[0m\u001b[0m\n\u001b[0m\u001b[1;32m      2\u001b[0m \u001b[0marr\u001b[0m\u001b[0;34m=\u001b[0m\u001b[0mcs\u001b[0m\u001b[0;34m.\u001b[0m\u001b[0marray\u001b[0m\u001b[0;34m(\u001b[0m\u001b[0;34m[\u001b[0m\u001b[0;36m1\u001b[0m\u001b[0;34m,\u001b[0m\u001b[0;36m2\u001b[0m\u001b[0;34m,\u001b[0m\u001b[0;36m3\u001b[0m\u001b[0;34m]\u001b[0m\u001b[0;34m)\u001b[0m\u001b[0;34m\u001b[0m\u001b[0;34m\u001b[0m\u001b[0m\n",
      "\u001b[0;31mModuleNotFoundError\u001b[0m: No module named 'cs771'"
     ]
    }
   ],
   "source": [
    "import cs771 as cs\n",
    "arr=cs.array([1,2,3])"
   ]
  },
  {
   "cell_type": "code",
   "execution_count": 7,
   "id": "1a90ddef",
   "metadata": {},
   "outputs": [],
   "source": [
    "import cs771"
   ]
  },
  {
   "cell_type": "code",
   "execution_count": 14,
   "id": "5092a005",
   "metadata": {},
   "outputs": [
    {
     "name": "stdout",
     "output_type": "stream",
     "text": [
      "Help on package cs771:\n",
      "\n",
      "NAME\n",
      "    cs771\n",
      "\n",
      "DESCRIPTION\n",
      "    Package: cs771\n",
      "    Author: Puru\n",
      "    Institution: CSE, IIT Kanpur\n",
      "    License: GNU GPL 3.0\n",
      "    \n",
      "    Provide various functionalities useful in machine learning lectures\n",
      "\n",
      "PACKAGE CONTENTS\n",
      "    decisionTree\n",
      "    genSyntheticData\n",
      "    helloWorld\n",
      "    plotData\n",
      "    utils\n",
      "\n",
      "FILE\n",
      "    /home/ayush/anaconda3/lib/python3.8/site-packages/cs771/__init__.py\n",
      "\n",
      "\n"
     ]
    }
   ],
   "source": [
    "help(cs771)"
   ]
  },
  {
   "cell_type": "code",
   "execution_count": 27,
   "id": "379a8c44",
   "metadata": {},
   "outputs": [
    {
     "name": "stdout",
     "output_type": "stream",
     "text": [
      "Help on package cs771:\n",
      "\n",
      "NAME\n",
      "    cs771\n",
      "\n",
      "DESCRIPTION\n",
      "    Package: cs771\n",
      "    Author: Puru\n",
      "    Institution: CSE, IIT Kanpur\n",
      "    License: GNU GPL 3.0\n",
      "    \n",
      "    Provide various functionalities useful in machine learning lectures\n",
      "\n",
      "PACKAGE CONTENTS\n",
      "    decisionTree\n",
      "    genSyntheticData\n",
      "    helloWorld\n",
      "    plotData\n",
      "    utils\n",
      "\n",
      "FILE\n",
      "    /home/ayush/anaconda3/lib/python3.8/site-packages/cs771/__init__.py\n",
      "\n",
      "\n"
     ]
    }
   ],
   "source": [
    "help(cs771)"
   ]
  },
  {
   "cell_type": "code",
   "execution_count": 87,
   "id": "2e5446d7",
   "metadata": {},
   "outputs": [
    {
     "data": {
      "text/plain": [
       "<Figure size 1440x1440 with 0 Axes>"
      ]
     },
     "metadata": {},
     "output_type": "display_data"
    }
   ],
   "source": [
    "d=2\n",
    "n=40\n",
    "r=5\n",
    "from numpy import linalg as la\n",
    "from cs771 import plotData as pd\n",
    "from cs771 import genSyntheticData as gsd\n",
    "import numpy as np\n",
    "mu1=np.array([-3,0])\n",
    "mu2=np.array([3,3])\n",
    "#set1=gsd.genSphericalData(d,n,mu1,r)\n",
    "#set2=gsd.genSphericalData(d,n,mu2,r)\n",
    "fig1=pd.getFigure(20,20)\n",
    "\n",
    "\n",
    "\n",
    "def lwp(x,y):\n",
    "    return la.norm(np.array([x,y])-mu1,2) - la.norm(np.array([x,y])-mu2,2)\n",
    "\n",
    "\n",
    "def lwpBatch(X):\n",
    "    return la.norm(X-mu1,ord=2,axis=1) - la.norm(X-mu2,ord=2,axis=1)\n",
    "\n",
    "\n",
    "#pd.shade2D(lwpBatch,fig1,mode='batch',xlim=20,ylim=20)\n",
    "\n",
    "#pd.plot2D(set1,fig1,marker='*',color='green')\n",
    "#pd.plot2D(set2,fig1,marker='.',color='red')\n",
    "#d.plot2DPoint(mu1,fig1,marker='+',color='green')\n",
    "#pd.plot2DPoint(mu2,fig1,marker='o',color='red')"
   ]
  },
  {
   "cell_type": "code",
   "execution_count": 79,
   "id": "298ea188",
   "metadata": {},
   "outputs": [
    {
     "data": {
      "image/png": "[encoded data removed]",
      "text/plain": [
       "<Figure size 432x288 with 1 Axes>"
      ]
     },
     "metadata": {
      "needs_background": "light"
     },
     "output_type": "display_data"
    }
   ],
   "source": [
    "cov=np.array([[16,-14],[-14,16]])\n",
    "set1=gsd.genEllipticalData(d,n,mu1,cov)\n",
    "set2=gsd.genEllipticalData(d,n,mu2,cov)\n",
    "\n",
    "pd.plot2D(set1,fig1,marker='+',color='red')\n",
    "pd.plot2D(set2,fig1,marker='o',color='green')\n",
    "pd.plot2DPoint(mu1,fig1,marker='+',color='red')\n",
    "pd.plot2DPoint(mu2,fig1,marker='o',color='green')"
   ]
  },
  {
   "cell_type": "code",
   "execution_count": 102,
   "id": "1bda3e27",
   "metadata": {},
   "outputs": [],
   "source": [
    "W=np.array([[2,0],[0,10]])\n",
    "L=la.cholesky(W)\n",
    "def lwpEuclideanBatch(X):\n",
    "    return la.norm(np.matmul(X-mu1,L), ord=2,axis=1) - la.norm(np.matmul(X-mu2,L),ord=2,axis=1)\n"
   ]
  },
  {
   "cell_type": "code",
   "execution_count": 103,
   "id": "6b44d61f",
   "metadata": {},
   "outputs": [
    {
     "data": {
      "image/png": "[encoded data removed]",
      "text/plain": [
       "<Figure size 432x288 with 1 Axes>"
      ]
     },
     "metadata": {
      "needs_background": "light"
     },
     "output_type": "display_data"
    }
   ],
   "source": [
    "pd.shade2D(lwpEuclideanBatch,fig1,mode='batch',xlim=10,ylim=10)\n",
    "pd.plot2D(set1,fig1,marker='+',color='red')\n",
    "pd.plot2D(set2,fig1,marker='o',color='green')\n",
    "pd.plot2DPoint(mu1,fig1,marker='+',color='red')\n",
    "pd.plot2DPoint(mu2,fig1,marker='o',color='green')"
   ]
  },
  {
   "cell_type": "code",
   "execution_count": null,
   "id": "42bb8d00",
   "metadata": {},
   "outputs": [],
   "source": []
  }
 ],
 "metadata": {
  "kernelspec": {
   "display_name": "Python 3",
   "language": "python",
   "name": "python3"
  },
  "language_info": {
   "codemirror_mode": {
    "name": "ipython",
    "version": 3
   },
   "file_extension": ".py",
   "mimetype": "text/x-python",
   "name": "python",
   "nbconvert_exporter": "python",
   "pygments_lexer": "ipython3",
   "version": "3.8.8"
  }
 },
 "nbformat": 4,
 "nbformat_minor": 5
}
